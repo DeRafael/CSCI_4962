{
 "cells": [
  {
   "cell_type": "code",
   "execution_count": 8,
   "id": "secure-panel",
   "metadata": {},
   "outputs": [],
   "source": [
    "#!/usr/bin/python\n",
    "# -*- coding: utf-8 -*-\n",
    "\"\"\"\n",
    "@author: DeRafael\n",
    "In this part we write the hw4\n",
    "\"\"\"\n",
    "import numpy as np\n",
    "import tensorflow as tf\n",
    "# from plot import plot\n",
    "from tqdm import tqdm\n",
    "# from plot import visual, plot\n",
    "\n",
    "training_data = np.load('videoframes_clips_train.npy') # 5964 x 16 x 224 x 224 x 3\n",
    "training_data = training_data[0:2000, :, :, :, :]\n",
    "testing_data = np.load('videoframes_clips_valid.npy') # 5964 x 16 x 224 x 224 x 3\n",
    "\n",
    "training_label = np.load('joint_3d_clips_train.npy') # 1368 x 17 x 3\n",
    "testing_label = np.load('joint_3d_clips_valid.npy') # 1368 x 17 x 3\n",
    "training_label = training_label[0:2000, :, :]\n"
   ]
  },
  {
   "cell_type": "code",
   "execution_count": 9,
   "id": "under-resource",
   "metadata": {},
   "outputs": [],
   "source": [
    "# hyper-parameter\n",
    "N_train = 500\n",
    "N_test = testing_data.shape[0]\n",
    "frames = training_data.shape[1]\n",
    "batch_size = 2\n",
    "num_units = 1024\n",
    "step_size = 0.001\n",
    "training_epochs = 10"
   ]
  },
  {
   "cell_type": "code",
   "execution_count": 10,
   "id": "olive-liberal",
   "metadata": {},
   "outputs": [],
   "source": [
    "# video length\n",
    "train_dataset = (\n",
    "    tf.data.Dataset.from_tensor_slices((\n",
    "        training_data, training_label)).batch(batch_size).shuffle(buffer_size=N_train, seed=0)\n",
    ")\n",
    "\n",
    "train_dataset = (train_dataset.map(lambda x, y:\n",
    "                                   (tf.divide(tf.cast(x, tf.float32), 255.0),tf.cast(y, tf.float32))))\n",
    "\n",
    "test_dataset = (\n",
    "    tf.data.Dataset.from_tensor_slices((testing_data, testing_label)).batch(batch_size)\n",
    ")\n",
    "\n",
    "test_dataset = (\n",
    "    test_dataset.map(lambda x, y:\n",
    "                      (tf.divide(tf.cast(x, tf.float32), 255.0),tf.cast(y, tf.float32))))"
   ]
  },
  {
   "cell_type": "code",
   "execution_count": 11,
   "id": "dense-aluminum",
   "metadata": {},
   "outputs": [],
   "source": [
    "class input_block(tf.keras.Model):\n",
    "    def __init__(self, seed=1):\n",
    "        super(input_block, self).__init__()\n",
    "        # use random seed to make the initialization repeat\n",
    "        tf.random.set_seed(seed)\n",
    "        # define convolutional layers\n",
    "        self.c1 = tf.keras.layers.Conv2D(64, kernel_size=7, strides=2, padding='VALID', activation = None, name='c1')\n",
    "        self.bn1 = tf.keras.layers.BatchNormalization()\n",
    "        self.relu = tf.keras.activations.relu\n",
    "        self.maxpool = tf.keras.layers.MaxPool2D(3, strides=2, padding='VALID')\n",
    "\n",
    "    def forward(self, input):\n",
    "        # batch_size x frame x 224 x 224 x 3\n",
    "        x = self.c1(input)\n",
    "        # batch_size x frame x 112 x 112 x 64\n",
    "        x = self.bn1(x)\n",
    "        x = self.relu(x)\n",
    "        output = self.maxpool(x)\n",
    "        # batch_size x frame x 56 x 56 x 64\n",
    "        return output"
   ]
  },
  {
   "cell_type": "code",
   "execution_count": 14,
   "id": "lonely-boutique",
   "metadata": {},
   "outputs": [],
   "source": [
    "class basic_block(tf.keras.Model):\n",
    "    def __init__(self, planes, stride=1, seed=1):\n",
    "        super(basic_block, self).__init__()\n",
    "        # use random seed to make the initialization repeat\n",
    "        tf.random.set_seed(seed)\n",
    "        # define convolutional layers\n",
    "        self.conv1 = tf.keras.layers.Conv2D(planes, kernel_size=3, strides=stride, padding='SAME', activation = None)\n",
    "        self.bn1 = tf.keras.layers.BatchNormalization()\n",
    "        self.conv2 = tf.keras.layers.Conv2D(planes, kernel_size=3, padding='SAME', activation=None)\n",
    "        self.bn2 = tf.keras.layers.BatchNormalization()\n",
    "        self.relu = tf.keras.activations.relu\n",
    "        self.stride = stride\n",
    "        if self.stride != 1:\n",
    "            self.short_cut = tf.keras.layers.Conv2D(planes, kernel_size=1, strides=stride, padding='SAME',\n",
    "                                                    activation = None)\n",
    "            self.bn_short = tf.keras.layers.BatchNormalization()\n",
    "\n",
    "    def forward(self, input):\n",
    "        # batch_size x frame x H x W x planes\n",
    "        x_1 = self.conv1(input)\n",
    "        x_1 = self.bn1(x_1)\n",
    "        x_1 = self.relu(x_1)\n",
    "        x_1 = self.conv2(x_1)\n",
    "        x_1 = self.bn2(x_1)\n",
    "        if self.stride != 1:\n",
    "            # shot cut\n",
    "            x_2 = self.short_cut(input)\n",
    "            x_2 = self.bn_short(x_2)\n",
    "            # batch_size x frame x H/2 x W/2 x planes\n",
    "            output = self.relu(x_1 + x_2)\n",
    "        else:\n",
    "            output = self.relu(x_1 + input)\n",
    "            # batch_size x frame x H x W x planes\n",
    "        return output"
   ]
  },
  {
   "cell_type": "code",
   "execution_count": 20,
   "id": "coordinate-engineering",
   "metadata": {},
   "outputs": [],
   "source": [
    "class ResNet18_LSTM(tf.keras.Model):\n",
    "    def __init__(self):\n",
    "        super(ResNet18_LSTM, self).__init__()\n",
    "        # use random seed to make the initialization repeat\n",
    "        # CNN 1-2\n",
    "        self.input_part = input_block()\n",
    "        # CNN 3-6\n",
    "        self.block_11 = basic_block(planes=64, seed=1)\n",
    "        self.block_12 = basic_block(planes=64, seed=2)\n",
    "        # CNN 6-10\n",
    "        self.block_21 = basic_block(planes=128, stride=2, seed=1)\n",
    "        self.block_22 = basic_block(planes=128, seed=2)\n",
    "        # CNN 10-14\n",
    "        self.block_31 = basic_block(planes=256, stride=2, seed=1)\n",
    "        self.block_32 = basic_block(planes=256, seed=2)\n",
    "        # CNN 14-18\n",
    "        self.block_41 = basic_block(planes=512, stride=2, seed=1)\n",
    "        self.block_42 = basic_block(planes=512, seed=2)\n",
    "        # Avg pooling\n",
    "        self.Avg = tf.keras.layers.AvgPool2D(7, padding='VALID')\n",
    "        # self.RNN = tf.keras.layers.LSTM(units=num_units, activation='tanh')\n",
    "        self.LSTM = tf.keras.layers.LSTM(units=num_units, activation='tanh', return_sequences=True, dropout=0.3)\n",
    "        # multilayer perception\n",
    "        self.p1 = tf.keras.layers.Dense(1024, activation=None, name='p1')\n",
    "        self.bn1 = tf.keras.layers.BatchNormalization()\n",
    "        self.p2 = tf.keras.layers.Dense(1024, activation=None, name='p2')\n",
    "        self.bn2 = tf.keras.layers.BatchNormalization()\n",
    "        self.p3 = tf.keras.layers.Dense(51, name='p3')\n",
    "        self.relu = tf.keras.activations.relu\n",
    "        self.dropout = tf.keras.layers.Dropout(0.5)\n",
    "\n",
    "\n",
    "    def forward(self, input):\n",
    "        '''\n",
    "        here we define the forward function\n",
    "        :param input: the input data\n",
    "        :return: output tensor\n",
    "        '''\n",
    "        # For each layer, a bias will also be initialized and add to the output after matrix multiply.\n",
    "        # reshape\n",
    "\n",
    "        x = tf.reshape(input, [-1, 224, 224, 3])\n",
    "        # batch size x frames x 224 x 224 x 3\n",
    "        x = self.input_part.forward(x)\n",
    "        # batch size x frames x 56 x 56 x 64\n",
    "        x = self.block_11.forward(x)\n",
    "        x = self.block_12.forward(x)\n",
    "        # batch size x frames x 56 x 56 x 64\n",
    "        x = self.block_21.forward(x)\n",
    "        x = self.block_22.forward(x)\n",
    "        # batch size x frames x 28 x 28 x 128\n",
    "        x = self.block_31.forward(x)\n",
    "        x = self.block_32.forward(x)\n",
    "        # batch size x frames x 14 x 14 x 256\n",
    "        x = self.block_41.forward(x)\n",
    "        x = self.block_42.forward(x)\n",
    "        # batch size x frames x 7 x 7 x 512\n",
    "        x = self.Avg(x)\n",
    "        # batch size x frames x 1 x 1 x 512\n",
    "        x = tf.reshape(x, [-1, frames, 512])\n",
    "        # batch size x frames x 512\n",
    "        middle_input = self.LSTM(x)\n",
    "        # middle_input = self.RNN(x)\n",
    "        # batch size x 1024\n",
    "        # batch size x frames x 1024\n",
    "        x = self.p1(middle_input)\n",
    "        x = self.bn1(x)\n",
    "        x = self.relu(x)\n",
    "        x = self.dropout(x)\n",
    "        # batch size x frames x 256\n",
    "        x = self.p2(x)\n",
    "        x = self.bn2(x)\n",
    "        x = self.relu(x)\n",
    "        x = self.dropout(x) + middle_input\n",
    "        # batch size x frames x 64\n",
    "        x = self.p3(x)\n",
    "        # batch size x frames x 51\n",
    "        output = tf.reshape(x, [-1, frames, 17, 3])\n",
    "        return output"
   ]
  },
  {
   "cell_type": "code",
   "execution_count": 18,
   "id": "metric-trading",
   "metadata": {},
   "outputs": [],
   "source": [
    "def train(train_data, test_data):\n",
    "    epoch = 0\n",
    "    model = ResNet18_LSTM()\n",
    "    optimizer = tf.keras.optimizers.Adam(learning_rate=step_size)\n",
    "    training_loss = []\n",
    "    testing_loss = []\n",
    "    training_MPJPE =[]\n",
    "    testing_MPJPE = []\n",
    "    while epoch < training_epochs:\n",
    "        epoch += 1\n",
    "        training_tmp_loss = []\n",
    "        training_tmp_MPJPE = []\n",
    "        for x, y in tqdm(train_data):\n",
    "            with tf.GradientTape() as tape:\n",
    "                predict = model.forward(x)\n",
    "                # F norm(y-predict) ^ 2 / batch_size\n",
    "                loss = tf.math.reduce_sum(tf.losses.mean_squared_error(y, predict))/batch_size\n",
    "                # batch_size x frame x 17 x 1\n",
    "                MPJPE = tf.math.reduce_mean(tf.math.reduce_euclidean_norm((y - predict), axis = 3)) * 1000\n",
    "                training_tmp_loss.append(loss)\n",
    "                training_tmp_MPJPE.append(MPJPE)\n",
    "                print('Epoch', epoch, 'Loss:', loss.numpy(), 'MPJPE:', MPJPE.numpy())\n",
    "            gradients = tape.gradient(loss, model.trainable_variables)\n",
    "            optimizer.apply_gradients(zip(gradients, model.trainable_variables))\n",
    "        training_loss.append(tf.reduce_mean(training_tmp_loss))\n",
    "        training_MPJPE.append(tf.reduce_mean(training_tmp_MPJPE))\n",
    "        # At the end of each epoch test on validation dataset\n",
    "        testing_tmp_MPJPE = []\n",
    "        testing_tmp_loss = []\n",
    "        for x, y in tqdm(test_data):\n",
    "            predict = model.forward(x)\n",
    "            # F norm(y-predict) ^ 2 / batch_size\n",
    "            loss = tf.math.reduce_sum(tf.losses.mean_squared_error(y, predict)) / batch_size\n",
    "            # batch_size x frame x 17 x 1\n",
    "            MPJPE = tf.math.reduce_mean(tf.math.reduce_euclidean_norm((y - predict), axis=3)) * 1000\n",
    "            testing_tmp_MPJPE.append(MPJPE)\n",
    "            testing_tmp_loss.append(loss)\n",
    "        testing_loss.append(tf.reduce_mean(testing_tmp_loss))\n",
    "        testing_MPJPE.append(tf.reduce_mean(testing_tmp_MPJPE))\n",
    "    plot(training_loss, training_MPJPE, testing_loss, testing_MPJPE)\n",
    "    model.save_weights('model_weights.h5')"
   ]
  },
  {
   "cell_type": "code",
   "execution_count": null,
   "id": "personalized-tuesday",
   "metadata": {},
   "outputs": [
    {
     "name": "stderr",
     "output_type": "stream",
     "text": [
      "\r",
      "  0%|          | 0/1000 [00:00<?, ?it/s]"
     ]
    },
    {
     "name": "stdout",
     "output_type": "stream",
     "text": [
      "Epoch 1 Loss: 10.775 MPJPE: 427.9449\n"
     ]
    },
    {
     "name": "stderr",
     "output_type": "stream",
     "text": [
      "\r",
      "  0%|          | 1/1000 [00:07<1:56:37,  7.00s/it]"
     ]
    },
    {
     "name": "stdout",
     "output_type": "stream",
     "text": [
      "Epoch 1 Loss: 316.65753 MPJPE: 2244.5127\n"
     ]
    },
    {
     "name": "stderr",
     "output_type": "stream",
     "text": [
      "\r",
      "  0%|          | 2/1000 [00:09<1:33:42,  5.63s/it]"
     ]
    },
    {
     "name": "stdout",
     "output_type": "stream",
     "text": [
      "Epoch 1 Loss: 9.451082 MPJPE: 397.58835\n"
     ]
    },
    {
     "name": "stderr",
     "output_type": "stream",
     "text": [
      "\r",
      "  0%|          | 3/1000 [00:11<1:17:14,  4.65s/it]"
     ]
    },
    {
     "name": "stdout",
     "output_type": "stream",
     "text": [
      "Epoch 1 Loss: 9.9628 MPJPE: 404.04443\n"
     ]
    },
    {
     "name": "stderr",
     "output_type": "stream",
     "text": [
      "\r",
      "  0%|          | 4/1000 [00:14<1:09:00,  4.16s/it]"
     ]
    },
    {
     "name": "stdout",
     "output_type": "stream",
     "text": [
      "Epoch 1 Loss: 9.603626 MPJPE: 400.31525\n"
     ]
    },
    {
     "name": "stderr",
     "output_type": "stream",
     "text": [
      "\r",
      "  0%|          | 5/1000 [00:17<1:01:24,  3.70s/it]"
     ]
    },
    {
     "name": "stdout",
     "output_type": "stream",
     "text": [
      "Epoch 1 Loss: 9.71401 MPJPE: 404.45074\n"
     ]
    },
    {
     "name": "stderr",
     "output_type": "stream",
     "text": [
      "\r",
      "  1%|          | 6/1000 [00:20<57:43,  3.48s/it]  "
     ]
    },
    {
     "name": "stdout",
     "output_type": "stream",
     "text": [
      "Epoch 1 Loss: 7.62173 MPJPE: 360.157\n"
     ]
    },
    {
     "name": "stderr",
     "output_type": "stream",
     "text": [
      "\r",
      "  1%|          | 7/1000 [00:23<55:52,  3.38s/it]"
     ]
    },
    {
     "name": "stdout",
     "output_type": "stream",
     "text": [
      "Epoch 1 Loss: 7.7739115 MPJPE: 383.97745\n"
     ]
    },
    {
     "name": "stderr",
     "output_type": "stream",
     "text": [
      "\r",
      "  1%|          | 8/1000 [00:26<55:59,  3.39s/it]"
     ]
    },
    {
     "name": "stdout",
     "output_type": "stream",
     "text": [
      "Epoch 1 Loss: 5.1689234 MPJPE: 296.61844\n"
     ]
    },
    {
     "name": "stderr",
     "output_type": "stream",
     "text": [
      "\r",
      "  1%|          | 9/1000 [00:31<1:00:04,  3.64s/it]"
     ]
    },
    {
     "name": "stdout",
     "output_type": "stream",
     "text": [
      "Epoch 1 Loss: 3.3940787 MPJPE: 235.29631\n"
     ]
    },
    {
     "name": "stderr",
     "output_type": "stream",
     "text": [
      "\r",
      "  1%|          | 10/1000 [00:35<1:03:39,  3.86s/it]"
     ]
    },
    {
     "name": "stdout",
     "output_type": "stream",
     "text": [
      "Epoch 1 Loss: 4.380954 MPJPE: 269.11676\n"
     ]
    },
    {
     "name": "stderr",
     "output_type": "stream",
     "text": [
      "\r",
      "  1%|          | 11/1000 [00:40<1:09:21,  4.21s/it]"
     ]
    },
    {
     "name": "stdout",
     "output_type": "stream",
     "text": [
      "Epoch 1 Loss: 2.3498895 MPJPE: 191.81694\n"
     ]
    },
    {
     "name": "stderr",
     "output_type": "stream",
     "text": [
      "\r",
      "  1%|          | 12/1000 [00:46<1:17:51,  4.73s/it]"
     ]
    },
    {
     "name": "stdout",
     "output_type": "stream",
     "text": [
      "Epoch 1 Loss: 2.893571 MPJPE: 225.42056\n"
     ]
    },
    {
     "name": "stderr",
     "output_type": "stream",
     "text": [
      "\r",
      "  1%|▏         | 13/1000 [01:04<2:24:23,  8.78s/it]"
     ]
    },
    {
     "name": "stdout",
     "output_type": "stream",
     "text": [
      "Epoch 1 Loss: 3.941758 MPJPE: 266.0924\n"
     ]
    },
    {
     "name": "stderr",
     "output_type": "stream",
     "text": [
      "\r",
      "  1%|▏         | 14/1000 [01:29<3:41:40, 13.49s/it]"
     ]
    },
    {
     "name": "stdout",
     "output_type": "stream",
     "text": [
      "Epoch 1 Loss: 3.4117608 MPJPE: 242.9956\n"
     ]
    },
    {
     "name": "stderr",
     "output_type": "stream",
     "text": [
      "\r",
      "  2%|▏         | 15/1000 [01:44<3:51:39, 14.11s/it]"
     ]
    },
    {
     "name": "stdout",
     "output_type": "stream",
     "text": [
      "Epoch 1 Loss: 2.0794775 MPJPE: 190.20354\n"
     ]
    },
    {
     "name": "stderr",
     "output_type": "stream",
     "text": [
      "\r",
      "  2%|▏         | 16/1000 [01:50<3:10:53, 11.64s/it]"
     ]
    },
    {
     "name": "stdout",
     "output_type": "stream",
     "text": [
      "Epoch 1 Loss: 2.6799998 MPJPE: 207.78168\n"
     ]
    },
    {
     "name": "stderr",
     "output_type": "stream",
     "text": [
      "\r",
      "  2%|▏         | 17/1000 [01:55<2:36:03,  9.53s/it]"
     ]
    },
    {
     "name": "stdout",
     "output_type": "stream",
     "text": [
      "Epoch 1 Loss: 2.671225 MPJPE: 209.53691\n"
     ]
    },
    {
     "name": "stderr",
     "output_type": "stream",
     "text": [
      "\r",
      "  2%|▏         | 18/1000 [01:58<2:06:58,  7.76s/it]"
     ]
    },
    {
     "name": "stdout",
     "output_type": "stream",
     "text": [
      "Epoch 1 Loss: 3.1262245 MPJPE: 235.18875\n"
     ]
    },
    {
     "name": "stderr",
     "output_type": "stream",
     "text": [
      "\r",
      "  2%|▏         | 19/1000 [02:01<1:43:57,  6.36s/it]"
     ]
    },
    {
     "name": "stdout",
     "output_type": "stream",
     "text": [
      "Epoch 1 Loss: 2.3591743 MPJPE: 198.76404\n"
     ]
    },
    {
     "name": "stderr",
     "output_type": "stream",
     "text": [
      "\r",
      "  2%|▏         | 20/1000 [02:05<1:28:52,  5.44s/it]"
     ]
    },
    {
     "name": "stdout",
     "output_type": "stream",
     "text": [
      "Epoch 1 Loss: 2.8509505 MPJPE: 215.85239\n"
     ]
    },
    {
     "name": "stderr",
     "output_type": "stream",
     "text": [
      "\r",
      "  2%|▏         | 21/1000 [02:08<1:16:40,  4.70s/it]"
     ]
    },
    {
     "name": "stdout",
     "output_type": "stream",
     "text": [
      "Epoch 1 Loss: 3.3693624 MPJPE: 246.12758\n"
     ]
    },
    {
     "name": "stderr",
     "output_type": "stream",
     "text": [
      "\r",
      "  2%|▏         | 22/1000 [02:10<1:06:49,  4.10s/it]"
     ]
    },
    {
     "name": "stdout",
     "output_type": "stream",
     "text": [
      "Epoch 1 Loss: 1.7109208 MPJPE: 171.1846\n"
     ]
    },
    {
     "name": "stderr",
     "output_type": "stream",
     "text": [
      "\r",
      "  2%|▏         | 23/1000 [02:13<1:00:46,  3.73s/it]"
     ]
    },
    {
     "name": "stdout",
     "output_type": "stream",
     "text": [
      "Epoch 1 Loss: 3.1650271 MPJPE: 236.66034\n"
     ]
    },
    {
     "name": "stderr",
     "output_type": "stream",
     "text": [
      "\r",
      "  2%|▏         | 24/1000 [02:16<55:24,  3.41s/it]  "
     ]
    },
    {
     "name": "stdout",
     "output_type": "stream",
     "text": [
      "Epoch 1 Loss: 3.677926 MPJPE: 250.43774\n"
     ]
    },
    {
     "name": "stderr",
     "output_type": "stream",
     "text": [
      "\r",
      "  2%|▎         | 25/1000 [02:19<51:58,  3.20s/it]"
     ]
    },
    {
     "name": "stdout",
     "output_type": "stream",
     "text": [
      "Epoch 1 Loss: 1.5503982 MPJPE: 153.58496\n"
     ]
    },
    {
     "name": "stderr",
     "output_type": "stream",
     "text": [
      "\r",
      "  3%|▎         | 26/1000 [02:21<48:29,  2.99s/it]"
     ]
    },
    {
     "name": "stdout",
     "output_type": "stream",
     "text": [
      "Epoch 1 Loss: 2.8482537 MPJPE: 219.43744\n"
     ]
    },
    {
     "name": "stderr",
     "output_type": "stream",
     "text": [
      "\r",
      "  3%|▎         | 27/1000 [02:24<46:20,  2.86s/it]"
     ]
    },
    {
     "name": "stdout",
     "output_type": "stream",
     "text": [
      "Epoch 1 Loss: 3.0434642 MPJPE: 230.46744\n"
     ]
    },
    {
     "name": "stderr",
     "output_type": "stream",
     "text": [
      "\r",
      "  3%|▎         | 28/1000 [02:26<43:51,  2.71s/it]"
     ]
    },
    {
     "name": "stdout",
     "output_type": "stream",
     "text": [
      "Epoch 1 Loss: 1.7502508 MPJPE: 164.85783\n"
     ]
    },
    {
     "name": "stderr",
     "output_type": "stream",
     "text": [
      "\r",
      "  3%|▎         | 29/1000 [02:29<43:03,  2.66s/it]"
     ]
    },
    {
     "name": "stdout",
     "output_type": "stream",
     "text": [
      "Epoch 1 Loss: 2.301634 MPJPE: 195.32565\n"
     ]
    },
    {
     "name": "stderr",
     "output_type": "stream",
     "text": [
      "\r",
      "  3%|▎         | 30/1000 [02:31<41:23,  2.56s/it]"
     ]
    },
    {
     "name": "stdout",
     "output_type": "stream",
     "text": [
      "Epoch 1 Loss: 2.1816885 MPJPE: 184.93019\n"
     ]
    },
    {
     "name": "stderr",
     "output_type": "stream",
     "text": [
      "\r",
      "  3%|▎         | 31/1000 [02:34<41:48,  2.59s/it]"
     ]
    },
    {
     "name": "stdout",
     "output_type": "stream",
     "text": [
      "Epoch 1 Loss: 2.5034242 MPJPE: 203.92812\n"
     ]
    },
    {
     "name": "stderr",
     "output_type": "stream",
     "text": [
      "\r",
      "  3%|▎         | 32/1000 [02:36<41:25,  2.57s/it]"
     ]
    },
    {
     "name": "stdout",
     "output_type": "stream",
     "text": [
      "Epoch 1 Loss: 2.117117 MPJPE: 179.42043\n"
     ]
    },
    {
     "name": "stderr",
     "output_type": "stream",
     "text": [
      "\r",
      "  3%|▎         | 33/1000 [02:39<41:36,  2.58s/it]"
     ]
    },
    {
     "name": "stdout",
     "output_type": "stream",
     "text": [
      "Epoch 1 Loss: 2.499815 MPJPE: 205.32358\n"
     ]
    },
    {
     "name": "stderr",
     "output_type": "stream",
     "text": [
      "\r",
      "  3%|▎         | 34/1000 [02:41<41:11,  2.56s/it]"
     ]
    },
    {
     "name": "stdout",
     "output_type": "stream",
     "text": [
      "Epoch 1 Loss: 1.2517272 MPJPE: 139.03574\n"
     ]
    },
    {
     "name": "stderr",
     "output_type": "stream",
     "text": [
      "\r",
      "  4%|▎         | 35/1000 [02:44<43:07,  2.68s/it]"
     ]
    },
    {
     "name": "stdout",
     "output_type": "stream",
     "text": [
      "Epoch 1 Loss: 2.6301804 MPJPE: 205.03867\n"
     ]
    },
    {
     "name": "stderr",
     "output_type": "stream",
     "text": [
      "\r",
      "  4%|▎         | 36/1000 [02:47<44:12,  2.75s/it]"
     ]
    },
    {
     "name": "stdout",
     "output_type": "stream",
     "text": [
      "Epoch 1 Loss: 2.1123476 MPJPE: 186.73523\n"
     ]
    },
    {
     "name": "stderr",
     "output_type": "stream",
     "text": [
      "\r",
      "  4%|▎         | 37/1000 [02:50<46:21,  2.89s/it]"
     ]
    },
    {
     "name": "stdout",
     "output_type": "stream",
     "text": [
      "Epoch 1 Loss: 2.120538 MPJPE: 188.71355\n"
     ]
    },
    {
     "name": "stderr",
     "output_type": "stream",
     "text": [
      "\r",
      "  4%|▍         | 38/1000 [02:54<47:50,  2.98s/it]"
     ]
    },
    {
     "name": "stdout",
     "output_type": "stream",
     "text": [
      "Epoch 1 Loss: 1.2304196 MPJPE: 143.63028\n"
     ]
    },
    {
     "name": "stderr",
     "output_type": "stream",
     "text": [
      "\r",
      "  4%|▍         | 39/1000 [02:57<50:00,  3.12s/it]"
     ]
    },
    {
     "name": "stdout",
     "output_type": "stream",
     "text": [
      "Epoch 1 Loss: 1.4604802 MPJPE: 152.61662\n"
     ]
    },
    {
     "name": "stderr",
     "output_type": "stream",
     "text": [
      "\r",
      "  4%|▍         | 40/1000 [03:00<50:47,  3.17s/it]"
     ]
    },
    {
     "name": "stdout",
     "output_type": "stream",
     "text": [
      "Epoch 1 Loss: 1.6147171 MPJPE: 161.78653\n"
     ]
    },
    {
     "name": "stderr",
     "output_type": "stream",
     "text": [
      "\r",
      "  4%|▍         | 41/1000 [03:04<51:58,  3.25s/it]"
     ]
    },
    {
     "name": "stdout",
     "output_type": "stream",
     "text": [
      "Epoch 1 Loss: 2.0955124 MPJPE: 180.12448\n"
     ]
    },
    {
     "name": "stderr",
     "output_type": "stream",
     "text": [
      "\r",
      "  4%|▍         | 42/1000 [03:07<53:09,  3.33s/it]"
     ]
    },
    {
     "name": "stdout",
     "output_type": "stream",
     "text": [
      "Epoch 1 Loss: 2.005729 MPJPE: 173.23203\n"
     ]
    },
    {
     "name": "stderr",
     "output_type": "stream",
     "text": [
      "\r",
      "  4%|▍         | 43/1000 [03:11<57:01,  3.57s/it]"
     ]
    },
    {
     "name": "stdout",
     "output_type": "stream",
     "text": [
      "Epoch 1 Loss: 1.7459724 MPJPE: 165.9908\n"
     ]
    },
    {
     "name": "stderr",
     "output_type": "stream",
     "text": [
      "\r",
      "  4%|▍         | 44/1000 [03:16<1:02:27,  3.92s/it]"
     ]
    },
    {
     "name": "stdout",
     "output_type": "stream",
     "text": [
      "Epoch 1 Loss: 1.7833881 MPJPE: 164.0035\n"
     ]
    },
    {
     "name": "stderr",
     "output_type": "stream",
     "text": [
      "\r",
      "  4%|▍         | 45/1000 [03:21<1:05:59,  4.15s/it]"
     ]
    },
    {
     "name": "stdout",
     "output_type": "stream",
     "text": [
      "Epoch 1 Loss: 1.5257199 MPJPE: 158.62445\n"
     ]
    },
    {
     "name": "stderr",
     "output_type": "stream",
     "text": [
      "\r",
      "  5%|▍         | 46/1000 [03:25<1:07:57,  4.27s/it]"
     ]
    },
    {
     "name": "stdout",
     "output_type": "stream",
     "text": [
      "Epoch 1 Loss: 1.8489678 MPJPE: 180.46379\n"
     ]
    },
    {
     "name": "stderr",
     "output_type": "stream",
     "text": [
      "\r",
      "  5%|▍         | 47/1000 [03:30<1:10:49,  4.46s/it]"
     ]
    },
    {
     "name": "stdout",
     "output_type": "stream",
     "text": [
      "Epoch 1 Loss: 2.0877414 MPJPE: 185.3549\n"
     ]
    },
    {
     "name": "stderr",
     "output_type": "stream",
     "text": [
      "\r",
      "  5%|▍         | 48/1000 [03:35<1:12:19,  4.56s/it]"
     ]
    },
    {
     "name": "stdout",
     "output_type": "stream",
     "text": [
      "Epoch 1 Loss: 1.9664807 MPJPE: 179.97147\n"
     ]
    },
    {
     "name": "stderr",
     "output_type": "stream",
     "text": [
      "\r",
      "  5%|▍         | 49/1000 [03:40<1:14:31,  4.70s/it]"
     ]
    },
    {
     "name": "stdout",
     "output_type": "stream",
     "text": [
      "Epoch 1 Loss: 1.2522106 MPJPE: 143.53726\n"
     ]
    },
    {
     "name": "stderr",
     "output_type": "stream",
     "text": [
      "\r",
      "  5%|▌         | 50/1000 [03:45<1:15:50,  4.79s/it]"
     ]
    },
    {
     "name": "stdout",
     "output_type": "stream",
     "text": [
      "Epoch 1 Loss: 1.7660236 MPJPE: 173.63705\n"
     ]
    },
    {
     "name": "stderr",
     "output_type": "stream",
     "text": [
      "\r",
      "  5%|▌         | 51/1000 [03:50<1:17:06,  4.88s/it]"
     ]
    },
    {
     "name": "stdout",
     "output_type": "stream",
     "text": [
      "Epoch 1 Loss: 2.2320693 MPJPE: 182.21681\n"
     ]
    },
    {
     "name": "stderr",
     "output_type": "stream",
     "text": [
      "\r",
      "  5%|▌         | 52/1000 [03:55<1:17:17,  4.89s/it]"
     ]
    },
    {
     "name": "stdout",
     "output_type": "stream",
     "text": [
      "Epoch 1 Loss: 0.98329985 MPJPE: 128.51553\n"
     ]
    },
    {
     "name": "stderr",
     "output_type": "stream",
     "text": [
      "\r",
      "  5%|▌         | 53/1000 [03:59<1:13:56,  4.68s/it]"
     ]
    },
    {
     "name": "stdout",
     "output_type": "stream",
     "text": [
      "Epoch 1 Loss: 1.9683518 MPJPE: 177.83575\n"
     ]
    },
    {
     "name": "stderr",
     "output_type": "stream",
     "text": [
      "\r",
      "  5%|▌         | 54/1000 [04:03<1:09:40,  4.42s/it]"
     ]
    },
    {
     "name": "stdout",
     "output_type": "stream",
     "text": [
      "Epoch 1 Loss: 1.801974 MPJPE: 174.96503\n"
     ]
    },
    {
     "name": "stderr",
     "output_type": "stream",
     "text": [
      "\r",
      "  6%|▌         | 55/1000 [04:06<1:04:47,  4.11s/it]"
     ]
    },
    {
     "name": "stdout",
     "output_type": "stream",
     "text": [
      "Epoch 1 Loss: 1.7356324 MPJPE: 158.95682\n"
     ]
    },
    {
     "name": "stderr",
     "output_type": "stream",
     "text": [
      "\r",
      "  6%|▌         | 56/1000 [04:10<1:02:31,  3.97s/it]"
     ]
    }
   ],
   "source": [
    "if __name__ == '__main__':\n",
    "    train(train_dataset, test_dataset)\n",
    "    model = ResNet18_RNN()\n",
    "    # initialize\n",
    "    model.forward(tf.ones(shape=[1, 8, 224, 224, 3]))\n",
    "    # load model\n",
    "    model.load_weights('model_weights.h5')\n",
    "    # testing_loss = []\n",
    "    tmp_MPJPE = []\n",
    "    tmp_loss = []\n",
    "    # test_MPJPE = []\n",
    "    for x, y in test_dataset:\n",
    "        predict = model.forward(x)\n",
    "        # F norm(y-predict) ^ 2 / batch_size\n",
    "        loss = tf.math.reduce_sum(tf.losses.mean_squared_error(y, predict)) / batch_size\n",
    "        # batch_size x frame x 17 x 1\n",
    "        MPJPE = tf.math.reduce_mean(tf.math.reduce_euclidean_norm((y - predict), axis=3)) * 1000\n",
    "        tmp_MPJPE.append(MPJPE)\n",
    "        tmp_loss.append(loss)\n",
    "    testing_los = tf.reduce_mean(tmp_loss)\n",
    "    test_MPJPE = tf.reduce_mean(tmp_MPJPE)\n",
    "    print('MPJPE:', test_MPJPE.numpy())"
   ]
  },
  {
   "cell_type": "code",
   "execution_count": null,
   "id": "permanent-architecture",
   "metadata": {},
   "outputs": [],
   "source": []
  }
 ],
 "metadata": {
  "kernelspec": {
   "display_name": "Python 3",
   "language": "python",
   "name": "python3"
  },
  "language_info": {
   "codemirror_mode": {
    "name": "ipython",
    "version": 3
   },
   "file_extension": ".py",
   "mimetype": "text/x-python",
   "name": "python",
   "nbconvert_exporter": "python",
   "pygments_lexer": "ipython3",
   "version": "3.6.10"
  }
 },
 "nbformat": 4,
 "nbformat_minor": 5
}
