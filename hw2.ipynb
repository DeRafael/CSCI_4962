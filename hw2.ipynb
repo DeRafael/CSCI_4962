{
 "cells": [
  {
   "cell_type": "code",
   "execution_count": 1,
   "id": "incident-location",
   "metadata": {},
   "outputs": [],
   "source": [
    "#!/usr/bin/python\n",
    "# -*- coding: utf-8 -*-\n",
    "\"\"\"\n",
    "@author: Xiao Jin\n",
    "\"\"\"\n",
    "import numpy as np\n",
    "import tensorflow as tf\n",
    "from sklearn.neural_network import MLPClassifier\n",
    "from sklearn.linear_model import LogisticRegression\n",
    "from sklearn.tree import DecisionTreeClassifier\n",
    "from sklearn.ensemble import RandomForestClassifier\n",
    "from sklearn.model_selection import cross_val_score\n",
    "from sklearn.ensemble import AdaBoostClassifier\n",
    "from sklearn.model_selection import KFold\n",
    "from sklearn.metrics import roc_auc_score, confusion_matrix"
   ]
  },
  {
   "cell_type": "code",
   "execution_count": 2,
   "id": "optical-civilization",
   "metadata": {},
   "outputs": [],
   "source": [
    "(X_train, y_train), (X_test, y_test) = tf.keras.datasets.mnist.load_data()\n",
    "\n",
    "X_train = X_train.astype('float32')\n",
    "X_test = X_test.astype('float32')\n",
    "\n",
    "X_train /= 255.\n",
    "X_test /= 255.\n",
    "\n",
    "X_train = X_train.reshape(60000, 784)\n",
    "X_test = X_test.reshape(10000, 784)\n",
    "\n",
    "roc_Decision = 0"
   ]
  },
  {
   "cell_type": "code",
   "execution_count": 4,
   "id": "agricultural-nightmare",
   "metadata": {},
   "outputs": [
    {
     "name": "stdout",
     "output_type": "stream",
     "text": [
      "Test set score: 0.878600\n",
      "[[ 917    0    8    7    3    8   14    5   12    6]\n",
      " [   2 1087   10    7    1    8    5    1   12    2]\n",
      " [  11   11  882   28   15   14   14   27   21    9]\n",
      " [   6    7   28  866    6   43    4    9   23   18]\n",
      " [   4    4    8    8  856    8   18   12   20   44]\n",
      " [  13    7    6   46    7  749   22    4   26   12]\n",
      " [  18    7   10    9   13   21  847    2   27    4]\n",
      " [   2   10   27   14    4    5    3  931    8   24]\n",
      " [  13    4   24   40   19   28   17    8  790   31]\n",
      " [  13    4    8   22   38    9    8   23   23  861]]\n"
     ]
    }
   ],
   "source": [
    "\"\"\"Decision Tree\"\"\"\n",
    "\n",
    "tree = DecisionTreeClassifier()\n",
    "# tree = DecisionTreeClassifier(max_depth=100, min_samples_leaf=1)\n",
    "tree.fit(X_train, y_train)\n",
    "y_pred = tree.predict(X_test)\n",
    "\n",
    "sum = 0.0\n",
    "for i in range(10000):\n",
    "    if (y_pred[i] == y_test[i]):\n",
    "        sum = sum + 1\n",
    "\n",
    "print('Test set score: %f' % (sum / 10000.))\n",
    "confusion_1 = confusion_matrix(y_test,y_pred)\n",
    "print(confusion_1)"
   ]
  },
  {
   "cell_type": "code",
   "execution_count": 5,
   "id": "accessory-insert",
   "metadata": {},
   "outputs": [
    {
     "name": "stdout",
     "output_type": "stream",
     "text": [
      "Test set score: 0.969600, cross valid score: 0.966817\n",
      "[[ 969    0    0    0    0    1    4    1    4    1]\n",
      " [   0 1122    4    3    0    2    2    0    2    0]\n",
      " [   3    0 1005    5    3    0    1    8    7    0]\n",
      " [   0    0   11  970    1    8    0    9    8    3]\n",
      " [   1    0    2    0  956    0    4    1    2   16]\n",
      " [   4    0    1   12    4  856    5    3    4    3]\n",
      " [   8    3    0    0    2    3  939    0    3    0]\n",
      " [   1    1   20    3    1    0    0  989    2   11]\n",
      " [   3    0    4    6    5    5    2    4  935   10]\n",
      " [   5    6    0   11   15    4    1    5    7  955]]\n"
     ]
    }
   ],
   "source": [
    "\"\"\"Bagging Random Forest\"\"\"\n",
    "\n",
    "model = RandomForestClassifier()\n",
    "model.fit(X_train, y_train)\n",
    "y_pred = model.predict(X_test)\n",
    "# k-fold cross validation\n",
    "score = np.mean(cross_val_score(model,X_train,y_train,cv=10))\n",
    "sum = 0.0\n",
    "for i in range(10000):\n",
    "    if (y_pred[i] == y_test[i]):\n",
    "        sum = sum + 1\n",
    "\n",
    "print('Test set score: %f, cross valid score: %f' % (sum / 10000., score))\n",
    "confusion_2 = confusion_matrix(y_test,y_pred)\n",
    "print(confusion_2)"
   ]
  },
  {
   "cell_type": "code",
   "execution_count": 6,
   "id": "spread-helena",
   "metadata": {},
   "outputs": [
    {
     "name": "stdout",
     "output_type": "stream",
     "text": [
      "Test set score: 0.729900, cross valid score: 0.725533\n",
      "[[ 883    0   25    3    4   28   23    3    3    8]\n",
      " [   0 1070    3    8    3    1    4   25   21    0]\n",
      " [  30   35  596   32   18    8  208   25   75    5]\n",
      " [  28   32   19  678    2   92   30   33   74   22]\n",
      " [   4    2   17   14  708   16   10   80   35   96]\n",
      " [  29   32    6  122   27  526   22   19   71   38]\n",
      " [  20   10   35    6   26   32  822    1    6    0]\n",
      " [   7   16   23    8   14    7    1  804   20  128]\n",
      " [  40   48   11   91   15   34   22   18  661   34]\n",
      " [   9   11   23   32  161   18    1  169   34  551]]\n"
     ]
    }
   ],
   "source": [
    "\"\"\"Boosting Adaboost\"\"\"\n",
    "\n",
    "model = AdaBoostClassifier()\n",
    "model.fit(X_train, y_train)\n",
    "y_pred = model.predict(X_test)\n",
    "# k-fold cross validation\n",
    "score = np.mean(cross_val_score(model,X_train,y_train,cv=10))\n",
    "sum = 0.0\n",
    "for i in range(10000):\n",
    "    if (y_pred[i] == y_test[i]):\n",
    "        sum = sum + 1\n",
    "\n",
    "print('Test set score: %f, cross valid score: %f' % (sum / 10000., score))\n",
    "confusion_3 = confusion_matrix(y_test,y_pred)\n",
    "print(confusion_3)"
   ]
  },
  {
   "cell_type": "code",
   "execution_count": null,
   "id": "dimensional-cocktail",
   "metadata": {},
   "outputs": [],
   "source": []
  }
 ],
 "metadata": {
  "kernelspec": {
   "display_name": "Python 3",
   "language": "python",
   "name": "python3"
  },
  "language_info": {
   "codemirror_mode": {
    "name": "ipython",
    "version": 3
   },
   "file_extension": ".py",
   "mimetype": "text/x-python",
   "name": "python",
   "nbconvert_exporter": "python",
   "pygments_lexer": "ipython3",
   "version": "3.6.10"
  }
 },
 "nbformat": 4,
 "nbformat_minor": 5
}
